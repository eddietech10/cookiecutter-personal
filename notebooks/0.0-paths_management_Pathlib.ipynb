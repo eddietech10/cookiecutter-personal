{
 "cells": [
  {
   "cell_type": "markdown",
   "metadata": {},
   "source": [
    "### Manejo de Rutas con Pathlib"
   ]
  },
  {
   "cell_type": "code",
   "execution_count": 1,
   "metadata": {},
   "outputs": [],
   "source": [
    "import pathlib"
   ]
  },
  {
   "cell_type": "code",
   "execution_count": 2,
   "metadata": {},
   "outputs": [
    {
     "data": {
      "text/plain": [
       "PosixPath('.')"
      ]
     },
     "execution_count": 2,
     "metadata": {},
     "output_type": "execute_result"
    }
   ],
   "source": [
    "# pathlib.Path() = crea un objeto de tipo Path que regresa una instancia de la clase Path según sea el conector del sistema operativo.\n",
    "pathlib.Path()"
   ]
  },
  {
   "cell_type": "code",
   "execution_count": 4,
   "metadata": {},
   "outputs": [
    {
     "data": {
      "text/plain": [
       "PosixPath('/Users/eddie10/Desktop/py/cookiecutter-personal/manejo_de_rutas/notebooks')"
      ]
     },
     "execution_count": 4,
     "metadata": {},
     "output_type": "execute_result"
    }
   ],
   "source": [
    "# pathlib.Path().resolve() = regresa una instancia de la clase Path que representa el path absoluto del sistema operativo, es decir, la ruta absoluta del directorio actual.\n",
    "CURRENT_DIR = pathlib.Path().resolve()\n",
    "CURRENT_DIR"
   ]
  },
  {
   "cell_type": "code",
   "execution_count": 6,
   "metadata": {},
   "outputs": [
    {
     "data": {
      "text/plain": [
       "PosixPath('/Users/eddie10/Desktop/py/cookiecutter-personal/manejo_de_rutas')"
      ]
     },
     "execution_count": 6,
     "metadata": {},
     "output_type": "execute_result"
    }
   ],
   "source": [
    "# CURRENT_DIR.parent = regresa una instancia de la clase Path que representa el directorio padre del directorio actual.\n",
    "CURRENT_DIR.parent"
   ]
  },
  {
   "cell_type": "code",
   "execution_count": 8,
   "metadata": {},
   "outputs": [
    {
     "data": {
      "text/plain": [
       "PosixPath('/Users/eddie10/Desktop/py/cookiecutter-personal/manejo_de_rutas/data/raw')"
      ]
     },
     "execution_count": 8,
     "metadata": {},
     "output_type": "execute_result"
    }
   ],
   "source": [
    "# CURRENT_DIR.parent.joinpath() = Baja a un nivel en el directorio actual.\n",
    "DATA_DIR = CURRENT_DIR.parent.joinpath('data', 'raw')\n",
    "DATA_DIR"
   ]
  },
  {
   "cell_type": "code",
   "execution_count": 9,
   "metadata": {},
   "outputs": [
    {
     "data": {
      "text/plain": [
       "True"
      ]
     },
     "execution_count": 9,
     "metadata": {},
     "output_type": "execute_result"
    }
   ],
   "source": [
    "# A diferencia de OS, estas consultas son parte del objeto que se está creando y no necesitan de una instancia (función) de la clase Path.\n",
    "DATA_DIR.is_dir()"
   ]
  },
  {
   "cell_type": "code",
   "execution_count": 10,
   "metadata": {},
   "outputs": [
    {
     "data": {
      "text/plain": [
       "True"
      ]
     },
     "execution_count": 10,
     "metadata": {},
     "output_type": "execute_result"
    }
   ],
   "source": [
    "# A diferencia de OS, estas consultas son propias del objeto que se está creando y no necesitan de una instancia (función) de la clase Path.\n",
    "DATA_DIR.exists()"
   ]
  },
  {
   "cell_type": "code",
   "execution_count": 12,
   "metadata": {},
   "outputs": [
    {
     "data": {
      "text/plain": [
       "PosixPath('/Users/eddie10/Desktop/py/cookiecutter-personal/manejo_de_rutas/data/raw/pathlib')"
      ]
     },
     "execution_count": 12,
     "metadata": {},
     "output_type": "execute_result"
    }
   ],
   "source": [
    "# Las funciones ya pertenecen al objeto que se está creando.\n",
    "# Para crear  un directorio, primero se crea la ruta y luego se pasa a la función mkdir() para crear el directorio.\n",
    "DATA_DIR.joinpath('pathlib')"
   ]
  },
  {
   "cell_type": "code",
   "execution_count": 13,
   "metadata": {},
   "outputs": [],
   "source": [
    "DATA_DIR.joinpath('pathlib').mkdir()"
   ]
  },
  {
   "cell_type": "code",
   "execution_count": 16,
   "metadata": {},
   "outputs": [
    {
     "data": {
      "text/plain": [
       "[PosixPath('/Users/eddie10/Desktop/py/cookiecutter-personal/manejo_de_rutas/data/raw/pathlib'),\n",
       " PosixPath('/Users/eddie10/Desktop/py/cookiecutter-personal/manejo_de_rutas/data/raw/.gitkeep'),\n",
       " PosixPath('/Users/eddie10/Desktop/py/cookiecutter-personal/manejo_de_rutas/data/raw/os')]"
      ]
     },
     "execution_count": 16,
     "metadata": {},
     "output_type": "execute_result"
    }
   ],
   "source": [
    "# para listar los archivos de un directorio.\n",
    "DATA_DIR.glob('*') # Regresa un objeto generador, no una lista. Para convertirlo a una lista, se usa list().\n",
    "list(DATA_DIR.glob('*')) # Imprime los archivos del directorio.\n",
    "# Imprimió la carpeta de pathlib, la carpeta de os, y el archivo gitkeep."
   ]
  },
  {
   "cell_type": "code",
   "execution_count": 17,
   "metadata": {},
   "outputs": [
    {
     "data": {
      "text/plain": [
       "[PosixPath('/Users/eddie10/Desktop/py/cookiecutter-personal/manejo_de_rutas/data/raw/.gitkeep')]"
      ]
     },
     "execution_count": 17,
     "metadata": {},
     "output_type": "execute_result"
    }
   ],
   "source": [
    "# Filtra por los archivos que tengan la extensión .git.\n",
    "list(DATA_DIR.glob('.git*'))"
   ]
  },
  {
   "cell_type": "code",
   "execution_count": null,
   "metadata": {},
   "outputs": [],
   "source": []
  }
 ],
 "metadata": {
  "kernelspec": {
   "display_name": "Python 3.9.12 ('manejo_de_rutas')",
   "language": "python",
   "name": "python3"
  },
  "language_info": {
   "codemirror_mode": {
    "name": "ipython",
    "version": 3
   },
   "file_extension": ".py",
   "mimetype": "text/x-python",
   "name": "python",
   "nbconvert_exporter": "python",
   "pygments_lexer": "ipython3",
   "version": "3.9.12"
  },
  "orig_nbformat": 4,
  "vscode": {
   "interpreter": {
    "hash": "26c26334d97943bc1aedc7e2096d4d0cadd56c838ce62a52df409d73038d9ee1"
   }
  }
 },
 "nbformat": 4,
 "nbformat_minor": 2
}
