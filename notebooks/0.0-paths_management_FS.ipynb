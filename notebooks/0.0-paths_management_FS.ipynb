{
 "cells": [
  {
   "cell_type": "markdown",
   "metadata": {},
   "source": [
    "### PyFilesystem2"
   ]
  },
  {
   "cell_type": "code",
   "execution_count": 1,
   "metadata": {},
   "outputs": [],
   "source": [
    "import fs"
   ]
  },
  {
   "cell_type": "code",
   "execution_count": 2,
   "metadata": {},
   "outputs": [
    {
     "data": {
      "text/plain": [
       "OSFS('/Users/eddie10/Desktop/py/cookiecutter-personal/manejo_de_rutas/notebooks')"
      ]
     },
     "execution_count": 2,
     "metadata": {},
     "output_type": "execute_result"
    }
   ],
   "source": [
    "# Abre una conexión con el directorio actual.\n",
    "CURRENT_DIR = fs.open_fs(\".\")\n",
    "CURRENT_DIR"
   ]
  },
  {
   "cell_type": "code",
   "execution_count": 5,
   "metadata": {},
   "outputs": [
    {
     "ename": "TypeError",
     "evalue": "exists() missing 1 required positional argument: 'path'",
     "output_type": "error",
     "traceback": [
      "\u001b[0;31m---------------------------------------------------------------------------\u001b[0m",
      "\u001b[0;31mTypeError\u001b[0m                                 Traceback (most recent call last)",
      "\u001b[1;32m/Users/eddie10/Desktop/py/cookiecutter-personal/manejo_de_rutas/notebooks/0.0-paths_management_FS.ipynb Cell 4'\u001b[0m in \u001b[0;36m<cell line: 2>\u001b[0;34m()\u001b[0m\n\u001b[1;32m      <a href='vscode-notebook-cell:/Users/eddie10/Desktop/py/cookiecutter-personal/manejo_de_rutas/notebooks/0.0-paths_management_FS.ipynb#ch0000003?line=0'>1</a>\u001b[0m \u001b[39m# CURRENT_DIR.exists('path') = True si el path existe en el directorio. Siempre debe llevar un path absoluto, de lo contrario arroja un error.\u001b[39;00m\n\u001b[0;32m----> <a href='vscode-notebook-cell:/Users/eddie10/Desktop/py/cookiecutter-personal/manejo_de_rutas/notebooks/0.0-paths_management_FS.ipynb#ch0000003?line=1'>2</a>\u001b[0m \u001b[39mprint\u001b[39m(CURRENT_DIR\u001b[39m.\u001b[39;49mexists())\n",
      "\u001b[0;31mTypeError\u001b[0m: exists() missing 1 required positional argument: 'path'"
     ]
    }
   ],
   "source": [
    "# CURRENT_DIR.exists('path') = True si el path existe en el directorio. Siempre debe llevar un path absoluto, de lo contrario arroja un error.\n",
    "print(CURRENT_DIR.exists())"
   ]
  },
  {
   "cell_type": "code",
   "execution_count": 7,
   "metadata": {},
   "outputs": [
    {
     "name": "stdout",
     "output_type": "stream",
     "text": [
      "True\n"
     ]
    }
   ],
   "source": [
    "# CURRENT_DIR.exists('path') = True si el path existe en el directorio. \n",
    "print(CURRENT_DIR.exists(\".\"))"
   ]
  },
  {
   "cell_type": "code",
   "execution_count": 8,
   "metadata": {},
   "outputs": [
    {
     "name": "stdout",
     "output_type": "stream",
     "text": [
      "False\n"
     ]
    }
   ],
   "source": [
    "# CURRENT_DIR.exists('path') = False si el path no existe en el directorio. \n",
    "print(CURRENT_DIR.exists(\"./LALALALA\"))\n"
   ]
  },
  {
   "cell_type": "code",
   "execution_count": 9,
   "metadata": {},
   "outputs": [
    {
     "ename": "IllegalBackReference",
     "evalue": "path '..' contains back-references outside of filesystem",
     "output_type": "error",
     "traceback": [
      "\u001b[0;31m---------------------------------------------------------------------------\u001b[0m",
      "\u001b[0;31mIndexError\u001b[0m                                Traceback (most recent call last)",
      "File \u001b[0;32m/opt/homebrew/Caskroom/miniconda/base/envs/manejo_de_rutas/lib/python3.9/site-packages/fs/path.py:85\u001b[0m, in \u001b[0;36mnormpath\u001b[0;34m(path)\u001b[0m\n\u001b[1;32m     84\u001b[0m     \u001b[39mif\u001b[39;00m component \u001b[39m==\u001b[39m \u001b[39m\"\u001b[39m\u001b[39m..\u001b[39m\u001b[39m\"\u001b[39m:\n\u001b[0;32m---> 85\u001b[0m         components\u001b[39m.\u001b[39;49mpop()\n\u001b[1;32m     86\u001b[0m \u001b[39melse\u001b[39;00m:\n",
      "\u001b[0;31mIndexError\u001b[0m: pop from empty list",
      "\nDuring handling of the above exception, another exception occurred:\n",
      "\u001b[0;31mIllegalBackReference\u001b[0m                      Traceback (most recent call last)",
      "\u001b[1;32m/Users/eddie10/Desktop/py/cookiecutter-personal/manejo_de_rutas/notebooks/0.0-paths_management_FS.ipynb Cell 7'\u001b[0m in \u001b[0;36m<cell line: 2>\u001b[0;34m()\u001b[0m\n\u001b[1;32m      <a href='vscode-notebook-cell:/Users/eddie10/Desktop/py/cookiecutter-personal/manejo_de_rutas/notebooks/0.0-paths_management_FS.ipynb#ch0000004?line=0'>1</a>\u001b[0m \u001b[39m# CURRENT_DIR.exists(\"..\") = NO PERMITE GENERAR REFERENCIAS HACIA ATRÁS, ES DECIR, SOLO CONOCE LO QUE ESTÁ ADENTRO, LO QUE ESTÁ AFUERA NO EXISTE.\u001b[39;00m\n\u001b[0;32m----> <a href='vscode-notebook-cell:/Users/eddie10/Desktop/py/cookiecutter-personal/manejo_de_rutas/notebooks/0.0-paths_management_FS.ipynb#ch0000004?line=1'>2</a>\u001b[0m CURRENT_DIR\u001b[39m.\u001b[39;49mexists(\u001b[39m\"\u001b[39;49m\u001b[39m..\u001b[39;49m\u001b[39m\"\u001b[39;49m)\n",
      "File \u001b[0;32m/opt/homebrew/Caskroom/miniconda/base/envs/manejo_de_rutas/lib/python3.9/site-packages/fs/base.py:523\u001b[0m, in \u001b[0;36mFS.exists\u001b[0;34m(self, path)\u001b[0m\n\u001b[1;32m    513\u001b[0m \u001b[39m\"\"\"Check if a path maps to a resource.\u001b[39;00m\n\u001b[1;32m    514\u001b[0m \n\u001b[1;32m    515\u001b[0m \u001b[39mArguments:\u001b[39;00m\n\u001b[0;32m   (...)\u001b[0m\n\u001b[1;32m    520\u001b[0m \n\u001b[1;32m    521\u001b[0m \u001b[39m\"\"\"\u001b[39;00m\n\u001b[1;32m    522\u001b[0m \u001b[39mtry\u001b[39;00m:\n\u001b[0;32m--> 523\u001b[0m     \u001b[39mself\u001b[39;49m\u001b[39m.\u001b[39;49mgetinfo(path)\n\u001b[1;32m    524\u001b[0m \u001b[39mexcept\u001b[39;00m errors\u001b[39m.\u001b[39mResourceNotFound:\n\u001b[1;32m    525\u001b[0m     \u001b[39mreturn\u001b[39;00m \u001b[39mFalse\u001b[39;00m\n",
      "File \u001b[0;32m/opt/homebrew/Caskroom/miniconda/base/envs/manejo_de_rutas/lib/python3.9/site-packages/fs/osfs.py:284\u001b[0m, in \u001b[0;36mOSFS.getinfo\u001b[0;34m(self, path, namespaces)\u001b[0m\n\u001b[1;32m    282\u001b[0m \u001b[39mself\u001b[39m\u001b[39m.\u001b[39mcheck()\n\u001b[1;32m    283\u001b[0m namespaces \u001b[39m=\u001b[39m namespaces \u001b[39mor\u001b[39;00m ()\n\u001b[0;32m--> 284\u001b[0m _path \u001b[39m=\u001b[39m \u001b[39mself\u001b[39;49m\u001b[39m.\u001b[39;49mvalidatepath(path)\n\u001b[1;32m    285\u001b[0m sys_path \u001b[39m=\u001b[39m \u001b[39mself\u001b[39m\u001b[39m.\u001b[39mgetsyspath(_path)\n\u001b[1;32m    286\u001b[0m _lstat \u001b[39m=\u001b[39m \u001b[39mNone\u001b[39;00m\n",
      "File \u001b[0;32m/opt/homebrew/Caskroom/miniconda/base/envs/manejo_de_rutas/lib/python3.9/site-packages/fs/osfs.py:687\u001b[0m, in \u001b[0;36mOSFS.validatepath\u001b[0;34m(self, path)\u001b[0m\n\u001b[1;32m    681\u001b[0m \u001b[39mexcept\u001b[39;00m \u001b[39mUnicodeEncodeError\u001b[39;00m \u001b[39mas\u001b[39;00m error:\n\u001b[1;32m    682\u001b[0m     \u001b[39mraise\u001b[39;00m errors\u001b[39m.\u001b[39mInvalidCharsInPath(\n\u001b[1;32m    683\u001b[0m         path,\n\u001b[1;32m    684\u001b[0m         msg\u001b[39m=\u001b[39m\u001b[39m\"\u001b[39m\u001b[39mpath \u001b[39m\u001b[39m'\u001b[39m\u001b[39m{path}\u001b[39;00m\u001b[39m'\u001b[39m\u001b[39m could not be encoded for the filesystem (check LANG\u001b[39m\u001b[39m\"\u001b[39m\n\u001b[1;32m    685\u001b[0m         \u001b[39m\"\u001b[39m\u001b[39m env var); \u001b[39m\u001b[39m{error}\u001b[39;00m\u001b[39m\"\u001b[39m\u001b[39m.\u001b[39mformat(path\u001b[39m=\u001b[39mpath, error\u001b[39m=\u001b[39merror),\n\u001b[1;32m    686\u001b[0m     )\n\u001b[0;32m--> 687\u001b[0m \u001b[39mreturn\u001b[39;00m \u001b[39msuper\u001b[39;49m(OSFS, \u001b[39mself\u001b[39;49m)\u001b[39m.\u001b[39;49mvalidatepath(path)\n",
      "File \u001b[0;32m/opt/homebrew/Caskroom/miniconda/base/envs/manejo_de_rutas/lib/python3.9/site-packages/fs/base.py:1590\u001b[0m, in \u001b[0;36mFS.validatepath\u001b[0;34m(self, path)\u001b[0m\n\u001b[1;32m   1588\u001b[0m             msg \u001b[39m=\u001b[39m _msg\u001b[39m.\u001b[39mformat(max_chars\u001b[39m=\u001b[39mmax_sys_path_length)\n\u001b[1;32m   1589\u001b[0m             \u001b[39mraise\u001b[39;00m errors\u001b[39m.\u001b[39mInvalidPath(path, msg\u001b[39m=\u001b[39mmsg)\n\u001b[0;32m-> 1590\u001b[0m path \u001b[39m=\u001b[39m abspath(normpath(path))\n\u001b[1;32m   1591\u001b[0m \u001b[39mreturn\u001b[39;00m path\n",
      "File \u001b[0;32m/opt/homebrew/Caskroom/miniconda/base/envs/manejo_de_rutas/lib/python3.9/site-packages/fs/path.py:90\u001b[0m, in \u001b[0;36mnormpath\u001b[0;34m(path)\u001b[0m\n\u001b[1;32m     87\u001b[0m             components\u001b[39m.\u001b[39mappend(component)\n\u001b[1;32m     88\u001b[0m \u001b[39mexcept\u001b[39;00m \u001b[39mIndexError\u001b[39;00m:\n\u001b[1;32m     89\u001b[0m     \u001b[39m# FIXME (@althonos): should be raised from the IndexError\u001b[39;00m\n\u001b[0;32m---> 90\u001b[0m     \u001b[39mraise\u001b[39;00m IllegalBackReference(path)\n\u001b[1;32m     91\u001b[0m \u001b[39mreturn\u001b[39;00m prefix \u001b[39m+\u001b[39m \u001b[39m\"\u001b[39m\u001b[39m/\u001b[39m\u001b[39m\"\u001b[39m\u001b[39m.\u001b[39mjoin(components)\n",
      "\u001b[0;31mIllegalBackReference\u001b[0m: path '..' contains back-references outside of filesystem"
     ]
    }
   ],
   "source": [
    "# CURRENT_DIR.exists(\"..\") = NO PERMITE GENERAR REFERENCIAS HACIA ATRÁS, ES DECIR, SOLO CONOCE LO QUE ESTÁ ADENTRO, LO QUE ESTÁ AFUERA NO EXISTE.\n",
    "CURRENT_DIR.exists(\"..\")"
   ]
  },
  {
   "cell_type": "markdown",
   "metadata": {},
   "source": [
    "---\n",
    "Se debe crear un nuebo objeto para acceder a directorios externos:"
   ]
  },
  {
   "cell_type": "code",
   "execution_count": 12,
   "metadata": {},
   "outputs": [
    {
     "data": {
      "text/plain": [
       "OSFS('/Users/eddie10/Desktop/py/cookiecutter-personal/manejo_de_rutas/data/raw')"
      ]
     },
     "execution_count": 12,
     "metadata": {},
     "output_type": "execute_result"
    }
   ],
   "source": [
    "# fs.open_fs('../data/raw/') = Abre una conexión con el directorio '../data/raw/'.\n",
    "DATA_DIR = fs.open_fs('../data/raw/')\n",
    "DATA_DIR"
   ]
  },
  {
   "cell_type": "code",
   "execution_count": 13,
   "metadata": {},
   "outputs": [
    {
     "data": {
      "text/plain": [
       "['pathlib', '.gitkeep', 'os']"
      ]
     },
     "execution_count": 13,
     "metadata": {},
     "output_type": "execute_result"
    }
   ],
   "source": [
    "# DATA_DIR.listdir('.') = lista los archivos del directorio actual.\n",
    "DATA_DIR.listdir('.')"
   ]
  },
  {
   "cell_type": "code",
   "execution_count": 17,
   "metadata": {},
   "outputs": [
    {
     "name": "stdout",
     "output_type": "stream",
     "text": [
      "/.gitkeep\n",
      "/pathlib/.gitkeep\n"
     ]
    }
   ],
   "source": [
    "# DATA_DIR.walk.files() = Itera sobre los archivos del directorio actual. \n",
    "for path in DATA_DIR.walk.files(): # walk.files\n",
    "    print(path)"
   ]
  },
  {
   "cell_type": "code",
   "execution_count": 16,
   "metadata": {},
   "outputs": [
    {
     "name": "stdout",
     "output_type": "stream",
     "text": [
      "/pathlib\n",
      "/os\n"
     ]
    }
   ],
   "source": [
    "# DATA_DIR.walk.files() = Itera sobre los directorios del directorio actual. \n",
    "for path in DATA_DIR.walk.dirs(): # walk.dirs\n",
    "    print(path)"
   ]
  },
  {
   "cell_type": "code",
   "execution_count": 21,
   "metadata": {},
   "outputs": [
    {
     "name": "stdout",
     "output_type": "stream",
     "text": [
      "/.gitkeep\n",
      "[]\n",
      "/pathlib/.gitkeep\n",
      "['Este es el contenido del archivo ubicado en la ruta /pathlib/.gitkeep']\n"
     ]
    }
   ],
   "source": [
    "for path in DATA_DIR.walk.files(): # walk.files\n",
    "    print(path)\n",
    "\n",
    "    with DATA_DIR.open(path) as data_file: # abre el archivo y lo lee.\n",
    "        print(data_file.readlines())"
   ]
  },
  {
   "cell_type": "markdown",
   "metadata": {},
   "source": [
    "---\n",
    "Se pueden crear carpetas, pero solo en el sistema donde se ha abierto conexión:"
   ]
  },
  {
   "cell_type": "code",
   "execution_count": 23,
   "metadata": {},
   "outputs": [
    {
     "data": {
      "text/plain": [
       "SubFS(OSFS('/Users/eddie10/Desktop/py/cookiecutter-personal/manejo_de_rutas/data/raw'), '/external_fs')"
      ]
     },
     "execution_count": 23,
     "metadata": {},
     "output_type": "execute_result"
    }
   ],
   "source": [
    "# Se crea un nuevo directorio en el directorio actual.\n",
    "# recreate=True = Si el directorio ya existe, lo sobreescribe.\n",
    "# SubFS = Hace referencia a un subdirectorio del directorio actual, es decir, al directorio padre.\n",
    "DATA_DIR.makedir('external_fs', recreate=True)"
   ]
  },
  {
   "cell_type": "code",
   "execution_count": null,
   "metadata": {},
   "outputs": [],
   "source": []
  }
 ],
 "metadata": {
  "kernelspec": {
   "display_name": "Python 3.9.12 ('manejo_de_rutas')",
   "language": "python",
   "name": "python3"
  },
  "language_info": {
   "codemirror_mode": {
    "name": "ipython",
    "version": 3
   },
   "file_extension": ".py",
   "mimetype": "text/x-python",
   "name": "python",
   "nbconvert_exporter": "python",
   "pygments_lexer": "ipython3",
   "version": "3.9.12"
  },
  "orig_nbformat": 4,
  "vscode": {
   "interpreter": {
    "hash": "26c26334d97943bc1aedc7e2096d4d0cadd56c838ce62a52df409d73038d9ee1"
   }
  }
 },
 "nbformat": 4,
 "nbformat_minor": 2
}
