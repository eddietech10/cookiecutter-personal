{
 "cells": [
  {
   "cell_type": "markdown",
   "metadata": {},
   "source": [
    "### Adding root to the project"
   ]
  },
  {
   "cell_type": "markdown",
   "metadata": {},
   "source": [
    "---\n",
    "#### Con la librería pyprojroot"
   ]
  },
  {
   "cell_type": "code",
   "execution_count": 1,
   "metadata": {},
   "outputs": [],
   "source": [
    "import pyprojroot"
   ]
  },
  {
   "cell_type": "code",
   "execution_count": 4,
   "metadata": {},
   "outputs": [
    {
     "data": {
      "text/plain": [
       "PosixPath('/Users/eddie10/Desktop/py/cookiecutter-personal/manejo_de_rutas')"
      ]
     },
     "execution_count": 4,
     "metadata": {},
     "output_type": "execute_result"
    }
   ],
   "source": [
    "# Genera un PosixPath, es decir, trabaja con pathlib, y crea una ruta raíz.\n",
    "# Esto permite ubicar el proyecto en cualquier parte del sistema de archivos, porque la ruta parte desde la raíz.\n",
    "pyprojroot.here()"
   ]
  },
  {
   "cell_type": "code",
   "execution_count": 5,
   "metadata": {},
   "outputs": [
    {
     "data": {
      "text/plain": [
       "PosixPath('/Users/eddie10/Desktop/py/cookiecutter-personal/manejo_de_rutas/data/raw')"
      ]
     },
     "execution_count": 5,
     "metadata": {},
     "output_type": "execute_result"
    }
   ],
   "source": [
    "# Se genera rutas relativas a la ruta raíz del proyecto, es decir, no hay que ir directorios hacia atrás.\n",
    "pyprojroot.here().joinpath(\"data\", \"raw\")"
   ]
  },
  {
   "cell_type": "markdown",
   "metadata": {},
   "source": [
    "---\n",
    "#### Con la librería pyhere"
   ]
  },
  {
   "cell_type": "code",
   "execution_count": 6,
   "metadata": {},
   "outputs": [],
   "source": [
    "import pyhere"
   ]
  },
  {
   "cell_type": "code",
   "execution_count": 8,
   "metadata": {},
   "outputs": [
    {
     "data": {
      "text/plain": [
       "PosixPath('/Users/eddie10/Desktop/py/cookiecutter-personal/manejo_de_rutas/notebooks/..')"
      ]
     },
     "execution_count": 8,
     "metadata": {},
     "output_type": "execute_result"
    }
   ],
   "source": [
    "# Muestra la ruta raíz del proyecto regresando dos carpetas hacia atrás. Retorna un PosixPath, lo que significa que trabaja con pathlib.\n",
    "pyhere.here()"
   ]
  },
  {
   "cell_type": "code",
   "execution_count": 10,
   "metadata": {},
   "outputs": [
    {
     "data": {
      "text/plain": [
       "PosixPath('/Users/eddie10/Desktop/py/cookiecutter-personal/manejo_de_rutas')"
      ]
     },
     "execution_count": 10,
     "metadata": {},
     "output_type": "execute_result"
    }
   ],
   "source": [
    "# Crea la ruta raíz del proyecto, dos carpetas hacia atrás.\n",
    "pyhere.here().resolve()"
   ]
  },
  {
   "cell_type": "code",
   "execution_count": 12,
   "metadata": {},
   "outputs": [
    {
     "data": {
      "text/plain": [
       "PosixPath('/Users/eddie10/Desktop/py/cookiecutter-personal/manejo_de_rutas/data/raw')"
      ]
     },
     "execution_count": 12,
     "metadata": {},
     "output_type": "execute_result"
    }
   ],
   "source": [
    "# Crea la ruta desde el directorio actual hasta la ruta definida.\n",
    "pyhere.here().resolve().joinpath(\"data\", \"raw\")"
   ]
  },
  {
   "cell_type": "code",
   "execution_count": 13,
   "metadata": {},
   "outputs": [
    {
     "data": {
      "text/plain": [
       "PosixPath('/Users/eddie10/Desktop/py/cookiecutter-personal/manejo_de_rutas/data/raw')"
      ]
     },
     "execution_count": 13,
     "metadata": {},
     "output_type": "execute_result"
    }
   ],
   "source": [
    "# Es una alternativa a joinpath(\"data\", \"raw\").\n",
    "pyhere.here().resolve() / \"data\" / \"raw\""
   ]
  },
  {
   "cell_type": "markdown",
   "metadata": {},
   "source": [
    "---\n",
    "#### Crete custom shortcuts\n",
    "#### Se pueden crear shortcuts con las funciones anteriores:"
   ]
  },
  {
   "cell_type": "code",
   "execution_count": 14,
   "metadata": {},
   "outputs": [],
   "source": [
    "# Nested function. Crea una función anidada que retorna la ruta raíz del proyecto de manera rápida. Accede a los niveles abstractos de las primeras carpetas. Puede ser útil para crear rutas relativas a la ruta raíz del proyecto. Funciona con pyprojroot y con pyhere.\n",
    "def make_dir_function(dir_name):\n",
    "    def dir_function(*args):\n",
    "\n",
    "        if isinstance(dir_name, str):\n",
    "            return pyprojroot.here().joinpath(dir_name, *args)\n",
    "        else:\n",
    "            return pyprojroot.here().joinpath(*dir_name, *args)\n",
    "\n",
    "    return dir_function"
   ]
  },
  {
   "cell_type": "code",
   "execution_count": 22,
   "metadata": {},
   "outputs": [],
   "source": [
    "# Se guarda la función en una variable.\n",
    "data_dir = make_dir_function('data')"
   ]
  },
  {
   "cell_type": "code",
   "execution_count": 23,
   "metadata": {},
   "outputs": [
    {
     "data": {
      "text/plain": [
       "PosixPath('/Users/eddie10/Desktop/py/cookiecutter-personal/manejo_de_rutas/data/raw/pathlib')"
      ]
     },
     "execution_count": 23,
     "metadata": {},
     "output_type": "execute_result"
    }
   ],
   "source": [
    "# Esta función permite crear rutas de manera rápida\n",
    "data_dir('raw', 'pathlib')"
   ]
  },
  {
   "cell_type": "code",
   "execution_count": 24,
   "metadata": {},
   "outputs": [
    {
     "data": {
      "text/plain": [
       "True"
      ]
     },
     "execution_count": 24,
     "metadata": {},
     "output_type": "execute_result"
    }
   ],
   "source": [
    "# Se comprueba si la ruta existe.\n",
    "data_dir('raw', 'pathlib').exists()"
   ]
  },
  {
   "cell_type": "markdown",
   "metadata": {},
   "source": [
    "Shortcut para notebooks:"
   ]
  },
  {
   "cell_type": "code",
   "execution_count": 27,
   "metadata": {},
   "outputs": [
    {
     "data": {
      "text/plain": [
       "PosixPath('/Users/eddie10/Desktop/py/cookiecutter-personal/manejo_de_rutas/notebooks/nested')"
      ]
     },
     "execution_count": 27,
     "metadata": {},
     "output_type": "execute_result"
    }
   ],
   "source": [
    "# Crear shorcut para el directorio raíz notebooks.\n",
    "notebooks_dir = make_dir_function('notebooks')"
   ]
  },
  {
   "cell_type": "code",
   "execution_count": null,
   "metadata": {},
   "outputs": [],
   "source": [
    "# Crear shorcut para el directorio raíz nested.\n",
    "notebooks_dir('nested')"
   ]
  },
  {
   "cell_type": "code",
   "execution_count": 28,
   "metadata": {},
   "outputs": [
    {
     "data": {
      "text/plain": [
       "True"
      ]
     },
     "execution_count": 28,
     "metadata": {},
     "output_type": "execute_result"
    }
   ],
   "source": [
    "notebooks_dir('nested').exists()"
   ]
  },
  {
   "cell_type": "markdown",
   "metadata": {},
   "source": [
    "---\n",
    "#### Versión Nested con lambda function:"
   ]
  },
  {
   "cell_type": "code",
   "execution_count": 30,
   "metadata": {},
   "outputs": [],
   "source": [
    "# Nested lambda.\n",
    "make_dir_function_lambda = lambda dir_name: lambda *args: pyprojroot.here().joinpath(dir_name, *args)"
   ]
  },
  {
   "cell_type": "code",
   "execution_count": 31,
   "metadata": {},
   "outputs": [],
   "source": [
    "data_dir_2 = make_dir_function_lambda('data')"
   ]
  },
  {
   "cell_type": "code",
   "execution_count": 33,
   "metadata": {},
   "outputs": [
    {
     "data": {
      "text/plain": [
       "PosixPath('/Users/eddie10/Desktop/py/cookiecutter-personal/manejo_de_rutas/data/raw/pathlib')"
      ]
     },
     "execution_count": 33,
     "metadata": {},
     "output_type": "execute_result"
    }
   ],
   "source": [
    "data_dir_2('raw', 'pathlib')"
   ]
  },
  {
   "cell_type": "code",
   "execution_count": 34,
   "metadata": {},
   "outputs": [
    {
     "data": {
      "text/plain": [
       "True"
      ]
     },
     "execution_count": 34,
     "metadata": {},
     "output_type": "execute_result"
    }
   ],
   "source": [
    "data_dir_2('raw', 'pathlib').exists()"
   ]
  }
 ],
 "metadata": {
  "kernelspec": {
   "display_name": "Python 3.9.12 ('manejo_de_rutas')",
   "language": "python",
   "name": "python3"
  },
  "language_info": {
   "codemirror_mode": {
    "name": "ipython",
    "version": 3
   },
   "file_extension": ".py",
   "mimetype": "text/x-python",
   "name": "python",
   "nbconvert_exporter": "python",
   "pygments_lexer": "ipython3",
   "version": "3.9.12"
  },
  "orig_nbformat": 4,
  "vscode": {
   "interpreter": {
    "hash": "26c26334d97943bc1aedc7e2096d4d0cadd56c838ce62a52df409d73038d9ee1"
   }
  }
 },
 "nbformat": 4,
 "nbformat_minor": 2
}
